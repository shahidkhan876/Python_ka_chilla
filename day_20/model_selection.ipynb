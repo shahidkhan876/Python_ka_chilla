{
 "cells": [
  {
   "cell_type": "markdown",
   "id": "69658e67",
   "metadata": {},
   "source": [
    "#Best Model Selection"
   ]
  },
  {
   "cell_type": "code",
   "execution_count": 6,
   "id": "9b04c949",
   "metadata": {},
   "outputs": [
    {
     "name": "stderr",
     "output_type": "stream",
     "text": [
      "C:\\Users\\HKT\\AppData\\Local\\Temp\\ipykernel_324\\3508099414.py:13: FutureWarning: A value is trying to be set on a copy of a DataFrame or Series through chained assignment using an inplace method.\n",
      "The behavior will change in pandas 3.0. This inplace method will never work because the intermediate object on which we are setting values always behaves as a copy.\n",
      "\n",
      "For example, when doing 'df[col].method(value, inplace=True)', try using 'df.method({col: value}, inplace=True)' or df[col] = df[col].method(value) instead, to perform the operation inplace on the original object.\n",
      "\n",
      "\n",
      "  X.age.fillna(X.age.mean(), inplace=True)\n"
     ]
    },
    {
     "name": "stdout",
     "output_type": "stream",
     "text": [
      "Logistic Regression - Accuracy: 0.81, Precision: 0.80, Recall: 0.72, F1 Score: 0.76\n",
      "SVM - Accuracy: 0.66, Precision: 0.76, Recall: 0.26, F1 Score: 0.38\n",
      "Decision Tree - Accuracy: 0.77, Precision: 0.72, Recall: 0.70, F1 Score: 0.71\n",
      "Random Forest - Accuracy: 0.79, Precision: 0.78, Recall: 0.70, F1 Score: 0.74\n",
      "KNN - Accuracy: 0.69, Precision: 0.66, Recall: 0.54, F1 Score: 0.59\n",
      "Logistic Regression - Accuracy: 0.81\n",
      "Random Forest - Accuracy: 0.79\n",
      "Decision Tree - Accuracy: 0.77\n",
      "KNN - Accuracy: 0.69\n",
      "SVM - Accuracy: 0.66\n"
     ]
    }
   ],
   "source": [
    "#import libraries\n",
    "import pandas as pd\n",
    "import numpy as np\n",
    "import matplotlib.pyplot as plt\n",
    "import seaborn as sns\n",
    "\n",
    "#load dataset\n",
    "df = sns.load_dataset('titanic')\n",
    "X = df[[\"pclass\",\"sex\",\"age\",\"sibsp\",\"parch\",\"fare\"]]\n",
    "y = df[\"survived\"]\n",
    "#preprocess data\n",
    "X = pd.get_dummies(X, columns=[\"sex\"])\n",
    "X.age.fillna(X.age.mean(), inplace=True)\n",
    "\n",
    "#iimpor sklearn libraries\n",
    "from sklearn.model_selection import train_test_split\n",
    "from sklearn.linear_model import LogisticRegression\n",
    "from sklearn.svm import SVC\n",
    "from sklearn.tree import DecisionTreeClassifier\n",
    "from sklearn.ensemble import RandomForestClassifier\n",
    "from sklearn.neighbors import KNeighborsClassifier\n",
    "from sklearn.metrics import accuracy_score, precision_score, recall_score, f1_score\n",
    "\n",
    "#split data\n",
    "X_train, X_test, y_train, y_test = train_test_split(X, y, test_size=0.2, random_state=42)\n",
    "\n",
    "#initialize models\n",
    "models = {\n",
    "    \"Logistic Regression\": LogisticRegression(max_iter=1000),\n",
    "    \"SVM\": SVC(),\n",
    "    \"Decision Tree\": DecisionTreeClassifier(),\n",
    "    \"Random Forest\": RandomForestClassifier(),\n",
    "    \"KNN\": KNeighborsClassifier()\n",
    "}\n",
    "#train and evaluate models\n",
    "for name, model in models.items():\n",
    "    model.fit(X_train, y_train)\n",
    "    y_pred = model.predict(X_test)\n",
    "    accuracy = accuracy_score(y_test, y_pred)\n",
    "    precision = precision_score(y_test, y_pred)\n",
    "    recall = recall_score(y_test, y_pred)\n",
    "    f1 = f1_score(y_test, y_pred)\n",
    "    \n",
    "    print(f\"{name} - Accuracy: {accuracy:.2f}, Precision: {precision:.2f}, Recall: {recall:.2f}, F1 Score: {f1:.2f}\")\n",
    "\n",
    "#sorted model\n",
    "sorted_models = sorted(models.items(), key=lambda x: accuracy_score(y_test, x[1].predict(X_test)), reverse=True)\n",
    "for name, model in sorted_models:\n",
    "    print(f\"{name} - Accuracy: {accuracy_score(y_test, model.predict(X_test)):.2f}\")\n",
    "    "
   ]
  },
  {
   "cell_type": "code",
   "execution_count": 8,
   "id": "2c10c559",
   "metadata": {},
   "outputs": [
    {
     "name": "stderr",
     "output_type": "stream",
     "text": [
      "C:\\Users\\HKT\\AppData\\Local\\Temp\\ipykernel_324\\2130759959.py:13: FutureWarning: A value is trying to be set on a copy of a DataFrame or Series through chained assignment using an inplace method.\n",
      "The behavior will change in pandas 3.0. This inplace method will never work because the intermediate object on which we are setting values always behaves as a copy.\n",
      "\n",
      "For example, when doing 'df[col].method(value, inplace=True)', try using 'df.method({col: value}, inplace=True)' or df[col] = df[col].method(value) instead, to perform the operation inplace on the original object.\n",
      "\n",
      "\n",
      "  X.age.fillna(X.age.mean(), inplace=True)\n"
     ]
    },
    {
     "name": "stdout",
     "output_type": "stream",
     "text": [
      "Logistic Regression - Accuracy: 0.81, Precision: 0.80, Recall: 0.72, F1 Score: 0.76\n",
      "Logistic Regression - Accuracy: 0.81, Precision: 0.80, Recall: 0.72, F1 Score: 0.76\n",
      "SVM - Accuracy: 0.66, Precision: 0.76, Recall: 0.26, F1 Score: 0.38\n",
      "Logistic Regression - Accuracy: 0.81, Precision: 0.80, Recall: 0.72, F1 Score: 0.76\n",
      "Decision Tree - Accuracy: 0.77, Precision: 0.72, Recall: 0.70, F1 Score: 0.71\n",
      "SVM - Accuracy: 0.66, Precision: 0.76, Recall: 0.26, F1 Score: 0.38\n",
      "Logistic Regression - Accuracy: 0.81, Precision: 0.80, Recall: 0.72, F1 Score: 0.76\n",
      "Random Forest - Accuracy: 0.79, Precision: 0.77, Recall: 0.72, F1 Score: 0.74\n",
      "Decision Tree - Accuracy: 0.77, Precision: 0.72, Recall: 0.70, F1 Score: 0.71\n",
      "SVM - Accuracy: 0.66, Precision: 0.76, Recall: 0.26, F1 Score: 0.38\n",
      "Logistic Regression - Accuracy: 0.81, Precision: 0.80, Recall: 0.72, F1 Score: 0.76\n",
      "Random Forest - Accuracy: 0.79, Precision: 0.77, Recall: 0.72, F1 Score: 0.74\n",
      "Decision Tree - Accuracy: 0.77, Precision: 0.72, Recall: 0.70, F1 Score: 0.71\n",
      "KNN - Accuracy: 0.69, Precision: 0.66, Recall: 0.54, F1 Score: 0.59\n",
      "SVM - Accuracy: 0.66, Precision: 0.76, Recall: 0.26, F1 Score: 0.38\n"
     ]
    }
   ],
   "source": [
    "#import libraries\n",
    "import pandas as pd\n",
    "import numpy as np\n",
    "import matplotlib.pyplot as plt\n",
    "import seaborn as sns\n",
    "\n",
    "#load dataset\n",
    "df = sns.load_dataset('titanic')\n",
    "X = df[[\"pclass\",\"sex\",\"age\",\"sibsp\",\"parch\",\"fare\"]]\n",
    "y = df[\"survived\"]\n",
    "#preprocess data\n",
    "X = pd.get_dummies(X, columns=[\"sex\"])\n",
    "X.age.fillna(X.age.mean(), inplace=True)\n",
    "\n",
    "#import sklearn libraries\n",
    "from sklearn.linear_model import LogisticRegression\n",
    "from sklearn.svm import SVC\n",
    "from sklearn.tree import DecisionTreeClassifier\n",
    "from sklearn.ensemble import RandomForestClassifier\n",
    "from sklearn.neighbors import KNeighborsClassifier\n",
    "from sklearn.model_selection import train_test_split\n",
    "from sklearn.metrics import accuracy_score, precision_score, recall_score, f1_score\n",
    "#split data\n",
    "X_train, X_test, y_train, y_test = train_test_split(X, y, test_size=0.2, random_state=42)\n",
    "#initialize models\n",
    "models = [LogisticRegression(), SVC(), DecisionTreeClassifier(), RandomForestClassifier(), KNeighborsClassifier()]\n",
    "model_names = [\"Logistic Regression\", \"SVM\", \"Decision Tree\", \"Random Forest\", \"KNN\"]\n",
    "\n",
    "model_scores = []\n",
    "#train and evaluate models\n",
    "for model, name in zip(models, model_names):\n",
    "    model.fit(X_train, y_train)\n",
    "    y_pred = model.predict(X_test)\n",
    "    accuracy = accuracy_score(y_test, y_pred)\n",
    "    precision = precision_score(y_test, y_pred)\n",
    "    recall = recall_score(y_test, y_pred)\n",
    "    f1 = f1_score(y_test, y_pred)\n",
    "    model_scores.append({\n",
    "        \"Model\": name,\n",
    "        \"Accuracy\": accuracy,\n",
    "        \"Precision\": precision,\n",
    "        \"Recall\": recall,\n",
    "        \"F1 Score\": f1\n",
    "    })\n",
    "    \n",
    "    sorted_models = sorted(model_scores, key=lambda x: x[\"Accuracy\"], reverse=True)\n",
    "    for model in sorted_models:\n",
    "        print(f\"{model['Model']} - Accuracy: {model['Accuracy']:.2f}, Precision: {model['Precision']:.2f}, Recall: {model['Recall']:.2f}, F1 Score: {model['F1 Score']:.2f}\")"
   ]
  },
  {
   "cell_type": "code",
   "execution_count": 13,
   "id": "40488d2f",
   "metadata": {},
   "outputs": [
    {
     "name": "stderr",
     "output_type": "stream",
     "text": [
      "C:\\Users\\HKT\\AppData\\Local\\Temp\\ipykernel_324\\1049188960.py:13: FutureWarning: A value is trying to be set on a copy of a DataFrame or Series through chained assignment using an inplace method.\n",
      "The behavior will change in pandas 3.0. This inplace method will never work because the intermediate object on which we are setting values always behaves as a copy.\n",
      "\n",
      "For example, when doing 'df[col].method(value, inplace=True)', try using 'df.method({col: value}, inplace=True)' or df[col] = df[col].method(value) instead, to perform the operation inplace on the original object.\n",
      "\n",
      "\n",
      "  X.age.fillna(X.age.mean(), inplace=True)\n"
     ]
    },
    {
     "name": "stdout",
     "output_type": "stream",
     "text": [
      "Accuracy score: Logistic Regression:0.81\n",
      "Accuracy score: Random Forest:0.80\n",
      "Accuracy score: Decision Tree:0.77\n",
      "Accuracy score: KNN:0.69\n",
      "Accuracy score: SVM:0.66\n"
     ]
    }
   ],
   "source": [
    "#import libraries\n",
    "import pandas as pd\n",
    "import numpy as np\n",
    "import matplotlib.pyplot as plt\n",
    "import seaborn as sns\n",
    "\n",
    "#load dataset\n",
    "df = sns.load_dataset('titanic')\n",
    "X = df[[\"pclass\",\"sex\",\"age\",\"sibsp\",\"parch\",\"fare\"]]\n",
    "y = df[\"survived\"]\n",
    "#preprocess data\n",
    "X = pd.get_dummies(X, columns=[\"sex\"])\n",
    "X.age.fillna(X.age.mean(), inplace=True)\n",
    "\n",
    "#import sklearn libraries\n",
    "from sklearn.linear_model import LogisticRegression\n",
    "from sklearn.svm import SVC\n",
    "from sklearn.tree import DecisionTreeClassifier\n",
    "from sklearn.ensemble import RandomForestClassifier\n",
    "from sklearn.neighbors import KNeighborsClassifier\n",
    "from sklearn.model_selection import train_test_split\n",
    "from sklearn.metrics import accuracy_score, precision_score, recall_score, f1_score\n",
    "#split data\n",
    "X_train, X_test, y_train, y_test = train_test_split(X, y, test_size=0.2, random_state=42)\n",
    "#initialize models\n",
    "models = [LogisticRegression(), SVC(), DecisionTreeClassifier(), RandomForestClassifier(), KNeighborsClassifier()]\n",
    "model_names = [\"Logistic Regression\", \"SVM\", \"Decision Tree\", \"Random Forest\", \"KNN\"]\n",
    "\n",
    "model_scores = []\n",
    "#train and evaluate models\n",
    "for model, name in zip(models, model_names):\n",
    "    model.fit(X_train, y_train)\n",
    "    y_pred = model.predict(X_test)\n",
    "    accuracy = accuracy_score(y_test, y_pred)\n",
    "    model_scores.append([name, accuracy])\n",
    "    \n",
    "sorted_models = sorted(model_scores,key=lambda x:x[1],reverse=True)\n",
    "for model in sorted_models:\n",
    "        print(\"Accuracy score:\",f'{model[0]}:{model[1]:.2f}')\n",
    "    "
   ]
  },
  {
   "cell_type": "markdown",
   "id": "bd0bce08",
   "metadata": {},
   "source": [
    "#Precision Score"
   ]
  },
  {
   "cell_type": "code",
   "execution_count": 15,
   "id": "51417f8a",
   "metadata": {},
   "outputs": [
    {
     "name": "stderr",
     "output_type": "stream",
     "text": [
      "C:\\Users\\HKT\\AppData\\Local\\Temp\\ipykernel_324\\3732358726.py:13: FutureWarning: A value is trying to be set on a copy of a DataFrame or Series through chained assignment using an inplace method.\n",
      "The behavior will change in pandas 3.0. This inplace method will never work because the intermediate object on which we are setting values always behaves as a copy.\n",
      "\n",
      "For example, when doing 'df[col].method(value, inplace=True)', try using 'df.method({col: value}, inplace=True)' or df[col] = df[col].method(value) instead, to perform the operation inplace on the original object.\n",
      "\n",
      "\n",
      "  X.age.fillna(X.age.mean(), inplace=True)\n"
     ]
    },
    {
     "name": "stdout",
     "output_type": "stream",
     "text": [
      "Precision_score: Logistic Regression:0.80\n",
      "Precision_score: Random Forest:0.79\n",
      "Precision_score: SVM:0.76\n",
      "Precision_score: Decision Tree:0.71\n",
      "Precision_score: KNN:0.66\n"
     ]
    }
   ],
   "source": [
    "#import libraries\n",
    "import pandas as pd\n",
    "import numpy as np\n",
    "import matplotlib.pyplot as plt\n",
    "import seaborn as sns\n",
    "\n",
    "#load dataset\n",
    "df = sns.load_dataset('titanic')\n",
    "X = df[[\"pclass\",\"sex\",\"age\",\"sibsp\",\"parch\",\"fare\"]]\n",
    "y = df[\"survived\"]\n",
    "#preprocess data\n",
    "X = pd.get_dummies(X, columns=[\"sex\"])\n",
    "X.age.fillna(X.age.mean(), inplace=True)\n",
    "\n",
    "#import sklearn libraries\n",
    "from sklearn.linear_model import LogisticRegression\n",
    "from sklearn.svm import SVC\n",
    "from sklearn.tree import DecisionTreeClassifier\n",
    "from sklearn.ensemble import RandomForestClassifier\n",
    "from sklearn.neighbors import KNeighborsClassifier\n",
    "from sklearn.model_selection import train_test_split\n",
    "from sklearn.metrics import accuracy_score, precision_score, recall_score, f1_score\n",
    "#split data\n",
    "X_train, X_test, y_train, y_test = train_test_split(X, y, test_size=0.2, random_state=42)\n",
    "#initialize models\n",
    "models = [LogisticRegression(), SVC(), DecisionTreeClassifier(), RandomForestClassifier(), KNeighborsClassifier()]\n",
    "model_names = [\"Logistic Regression\", \"SVM\", \"Decision Tree\", \"Random Forest\", \"KNN\"]\n",
    "\n",
    "model_scores = []\n",
    "#train and evaluate models\n",
    "for model, name in zip(models, model_names):\n",
    "    model.fit(X_train, y_train)\n",
    "    y_pred = model.predict(X_test)\n",
    "    # accuracy = accuracy_score(y_test, y_pred)\n",
    "    Precision = precision_score(y_test, y_pred)\n",
    "    model_scores.append([name, Precision])\n",
    "    \n",
    "sorted_models = sorted(model_scores,key=lambda x:x[1],reverse=True)\n",
    "for model in sorted_models:\n",
    "        print(\"Precision_score:\",f'{model[0]}:{model[1]:.2f}')\n",
    "    "
   ]
  }
 ],
 "metadata": {
  "kernelspec": {
   "display_name": "Python 3",
   "language": "python",
   "name": "python3"
  },
  "language_info": {
   "codemirror_mode": {
    "name": "ipython",
    "version": 3
   },
   "file_extension": ".py",
   "mimetype": "text/x-python",
   "name": "python",
   "nbconvert_exporter": "python",
   "pygments_lexer": "ipython3",
   "version": "3.13.0"
  }
 },
 "nbformat": 4,
 "nbformat_minor": 5
}
